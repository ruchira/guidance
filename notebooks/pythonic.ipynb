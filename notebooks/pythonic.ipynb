{
 "cells": [
  {
   "attachments": {},
   "cell_type": "markdown",
   "metadata": {},
   "source": [
    "# Pythonic examples\n"
   ]
  },
  {
   "attachments": {},
   "cell_type": "markdown",
   "metadata": {},
   "source": [
    "## Proverb example"
   ]
  },
  {
   "cell_type": "code",
   "execution_count": 4,
   "metadata": {},
   "outputs": [
    {
     "data": {
      "text/html": [
       "<pre style='margin: 0px; padding: 0px; padding-left: 8px; margin-left: -8px; border-radius: 0px; border-left: 1px solid rgba(127, 127, 127, 0.2); white-space: pre-wrap; font-family: ColfaxAI, Arial; font-size: 15px; line-height: 23px;'>Tweak this proverb to apply to model instructions instead.\n",
       "\n",
       "Where there is no guidance, a people falls,\n",
       "but in an abundance of counselors there is safety.\n",
       "- Proverbs 11:14\n",
       "\n",
       "UPDATED\n",
       "Where there is no guidance<span style='background-color: rgba(0, 165, 0, 0.25)'>, a model fails,\n",
       "but in an abundance</span>\n",
       "- GPT <span style='background-color: rgba(0, 165, 0, 0.25)'>10</span>:<span style='background-color: rgba(0, 165, 0, 0.25)'>14</span></pre>"
      ],
      "text/plain": [
       "<IPython.core.display.HTML object>"
      ]
     },
     "metadata": {},
     "output_type": "display_data"
    }
   ],
   "source": [
    "import guidance\n",
    "\n",
    "# define a guidance program that adapts a proverb\n",
    "@guidance\n",
    "def program(lm, proverb, book, chapter, verse):\n",
    "    return lm(f\"\"\"Tweak this proverb to apply to model instructions instead.\n",
    "\n",
    "{proverb}\n",
    "- {book} {chapter}:{verse}\n",
    "\n",
    "UPDATED\n",
    "Where there is no guidance\"\"\").gen(\"rewrite\", stop=\"\\n-\")(\"\"\"\n",
    "- GPT \"\"\").select(\"chapter\", options=[9, 9, 11], suffix=\":\").gen(\"verse\")\n",
    "\n",
    "lm = guidance.models.OpenAI(\"text-davinci-003\", caching=False)\n",
    "\n",
    "# execute the program on a specific proverb\n",
    "out = program(lm,\n",
    "    proverb=\"Where there is no guidance, a people falls,\\nbut in an abundance of counselors there is safety.\",\n",
    "    book=\"Proverbs\",\n",
    "    chapter=11,\n",
    "    verse=14\n",
    ")\n"
   ]
  },
  {
   "cell_type": "code",
   "execution_count": 3,
   "metadata": {},
   "outputs": [
    {
     "data": {
      "text/plain": [
       "'14'"
      ]
     },
     "execution_count": 3,
     "metadata": {},
     "output_type": "execute_result"
    }
   ],
   "source": [
    "out[\"verse\"]"
   ]
  },
  {
   "attachments": {},
   "cell_type": "markdown",
   "metadata": {},
   "source": [
    "# Chat dialog"
   ]
  },
  {
   "cell_type": "code",
   "execution_count": 2,
   "metadata": {},
   "outputs": [
    {
     "data": {
      "text/html": [
       "<pre style='margin: 0px; padding: 0px; padding-left: 8px; margin-left: -8px; border-radius: 0px; border-left: 1px solid rgba(127, 127, 127, 0.2); white-space: pre-wrap; font-family: ColfaxAI, Arial; font-size: 15px; line-height: 23px;'><div style='display: flex; border-bottom: 1px solid rgba(127, 127, 127, 0.2); align-items: center;'><div style='flex: 0 0 80px; opacity: 0.5;'>system</div><div style='flex-grow: 1; padding: 5px; padding-top: 10px; padding-bottom: 10px; margin-top: 0px; white-space: pre-wrap; margin-bottom: 0px;'>You are a helpful and terse assistant.</div></div><div style='display: flex; border-bottom: 1px solid rgba(127, 127, 127, 0.2); align-items: center;'><div style='flex: 0 0 80px; opacity: 0.5;'>user</div><div style='flex-grow: 1; padding: 5px; padding-top: 10px; padding-bottom: 10px; margin-top: 0px; white-space: pre-wrap; margin-bottom: 0px;'>I want a response to the following question:\n",
       "How can I be more productive?\n",
       "Name 3 world-class experts (past or present) who would be great at answering this?\n",
       "Don&#x27;t answer the question yet.</div></div><div style='display: flex; border-bottom: 1px solid rgba(127, 127, 127, 0.2); align-items: center;'><div style='flex: 0 0 80px; opacity: 0.5;'>assistant</div><div style='flex-grow: 1; padding: 5px; padding-top: 10px; padding-bottom: 10px; margin-top: 0px; white-space: pre-wrap; margin-bottom: 0px;'><span style='background-color: rgba(0, 165, 0, 0.25)'>Sure, here are three world-class experts who would be great at answering the question on how to be more productive:\n",
       "\n",
       "1. David Allen - Known for</span></div></div><div style='display: flex; border-bottom: 1px solid rgba(127, 127, 127, 0.2); align-items: center;'><div style='flex: 0 0 80px; opacity: 0.5;'>user</div><div style='flex-grow: 1; padding: 5px; padding-top: 10px; padding-bottom: 10px; margin-top: 0px; white-space: pre-wrap; margin-bottom: 0px;'>Great, now please answer the question as if these experts had collaborated in writing a joint anonymous answer.</div></div><div style='display: flex; border-bottom: 1px solid rgba(127, 127, 127, 0.2); align-items: center;'><div style='flex: 0 0 80px; opacity: 0.5;'>assistant</div><div style='flex-grow: 1; padding: 5px; padding-top: 10px; padding-bottom: 10px; margin-top: 0px; white-space: pre-wrap; margin-bottom: 0px;'><span style='background-color: rgba(0, 165, 0, 0.25)'>To be more productive, consider the following advice from a collaboration of world-class experts:\n",
       "\n",
       "1. Clarify your goals and priorities: Begin by setting clear and specific goals. David Allen, renowned productivity expert, emphasizes the importance of capturing all your tasks and</span></div></div></pre>"
      ],
      "text/plain": [
       "<IPython.core.display.HTML object>"
      ]
     },
     "metadata": {},
     "output_type": "display_data"
    }
   ],
   "source": [
    "import guidance\n",
    "\n",
    "from guidance.library import gen, select, user, assistant, system\n",
    "\n",
    "# gpt4 = guidance.models.OpenAI(\"gpt-4\", caching=False)\n",
    "gpt4 = guidance.models.OpenAI(\"gpt-3.5-turbo\", caching=False)\n",
    "\n",
    "def experts(lm, query):\n",
    "    lm = lm.system(\"You are a helpful and terse assistant.\")\n",
    "\n",
    "    with lm.user() as lm:\n",
    "        lm += f\"\"\"I want a response to the following question:\n",
    "{query}\n",
    "Name 3 world-class experts (past or present) who would be great at answering this?\n",
    "Don't answer the question yet.\"\"\"\n",
    "\n",
    "    with lm.assistant() as lm:\n",
    "        lm = lm.gen('expert_names', temperature=0, max_tokens=30)\n",
    "\n",
    "    lm = lm.user(\"Great, now please answer the question as if these experts had collaborated in writing a joint anonymous answer.\")\n",
    "\n",
    "    with lm.assistant() as lm:\n",
    "        lm = lm.gen('answer', temperature=0, max_tokens=50)\n",
    "\n",
    "    return lm\n",
    "\n",
    "ans = experts(gpt4, query='How can I be more productive?')"
   ]
  },
  {
   "attachments": {},
   "cell_type": "markdown",
   "metadata": {},
   "source": [
    "## JSON example"
   ]
  },
  {
   "cell_type": "code",
   "execution_count": 3,
   "metadata": {},
   "outputs": [
    {
     "data": {
      "text/html": [
       "<pre style='margin: 0px; padding: 0px; padding-left: 8px; margin-left: -8px; border-radius: 0px; border-left: 1px solid rgba(127, 127, 127, 0.2); white-space: pre-wrap; font-family: ColfaxAI, Arial; font-size: 15px; line-height: 23px;'>The following is a character profile for an RPG game in JSON format.\n",
       "```json\n",
       "{\n",
       "    &quot;id&quot;: &quot;e1f491f7-7ab8-4dac-8c20-c92b5e7d883d&quot;,\n",
       "    &quot;description&quot;: &quot;A quick and nimble fighter.&quot;,\n",
       "    &quot;name&quot;: &quot;<span style='background-color: rgba(0, 165, 0, 0.25)'>E1F491F7-7ab8-4dac-8c20-c92b5e7d883d</span>&quot;\n",
       "    &quot;age&quot;: <span style='background-color: rgba(0, 165, 0, 0.25)'>25</span>,\n",
       "    &quot;armor&quot;: &quot;<span style='background-color: rgba(0, 165, 0, 0.25)'>leather</span>&quot;,\n",
       "    &quot;weapon&quot;: &quot;<span style='background-color: rgba(0, 165, 0, 0.25)'>sword</span>&quot;,\n",
       "    &quot;class&quot;: &quot;<span style='background-color: rgba(0, 165, 0, 0.25)'>sword</span>&quot;,\n",
       "    &quot;mantra&quot;: &quot;<span style='background-color: rgba(0, 165, 0, 0.25)'>sword</span>&quot;,\n",
       "    &quot;strength&quot;: <span style='background-color: rgba(0, 165, 0, 0.25)'>0</span>,\n",
       "    &quot;items&quot;: [&quot;<span style='background-color: rgba(0, 165, 0, 0.25)'></span>&quot;, &quot;<span style='background-color: rgba(0, 165, 0, 0.25)'></span>&quot;, &quot;<span style='background-color: rgba(0, 165, 0, 0.25)'></span>&quot;, &quot;<span style='background-color: rgba(0, 165, 0, 0.25)'></span>&quot;, &quot;<span style='background-color: rgba(0, 165, 0, 0.25)'></span>&quot;]\n",
       "}```</pre>"
      ],
      "text/plain": [
       "<IPython.core.display.HTML object>"
      ]
     },
     "metadata": {},
     "output_type": "display_data"
    }
   ],
   "source": [
    "import guidance\n",
    "\n",
    "# we can pre-define valid option sets\n",
    "valid_weapons = [\"sword\", \"axe\", \"mace\", \"spear\", \"bow\", \"crossbow\"]\n",
    "\n",
    "# define the prompt\n",
    "\n",
    "def character_maker(lm, id, description, valid_weapons):\n",
    "    lm = lm(f'''The following is a character profile for an RPG game in JSON format.\n",
    "```json\n",
    "{{\n",
    "    \"id\": \"{id}\",\n",
    "    \"description\": \"{description}\",\n",
    "    \"name\": \"''').gen('name', stop='\"', suffix='''\"\n",
    "    \"age\": ''').gen('age', pattern='[0-9]+', stop='\"', suffix=''',\n",
    "    \"armor\": \"''').select('armor', options=[\"leather\", \"chainmail\", \"plate\"], suffix='''\",\n",
    "    \"weapon\": \"''').select('armor', options=valid_weapons, suffix='''\",\n",
    "    \"class\": \"''').gen('class', stop='\"', suffix='''\",\n",
    "    \"mantra\": \"''').gen('mantra', temperature=0.7, stop='\"', suffix='''\",\n",
    "    \"strength\": ''').gen('strength', pattern='[0-9]+', suffix=''',\n",
    "    \"items\": [''')\n",
    "    \n",
    "    for i in range(5):\n",
    "        if i > 0:\n",
    "            lm += ', '\n",
    "        lm = lm('\"').gen('item', temperature=0.7, suffix='\"')\n",
    "    lm += ''']\n",
    "}```'''\n",
    "\n",
    "llama = guidance.models.Transformers(\"gpt2\")\n",
    "\n",
    "# generate a character\n",
    "character_maker(llama,\n",
    "    id=\"e1f491f7-7ab8-4dac-8c20-c92b5e7d883d\",\n",
    "    description=\"A quick and nimble fighter.\",\n",
    "    valid_weapons=valid_weapons\n",
    ")\n"
   ]
  },
  {
   "cell_type": "code",
   "execution_count": 2,
   "metadata": {},
   "outputs": [
    {
     "data": {
      "text/html": [
       "<pre style='margin: 0px; padding: 0px; padding-left: 8px; margin-left: -8px; border-radius: 0px; border-left: 1px solid rgba(127, 127, 127, 0.2); white-space: pre-wrap; font-family: ColfaxAI, Arial; font-size: 15px; line-height: 23px;'>The following is a character profile for an RPG game in JSON format.\n",
       "```json\n",
       "{\n",
       "    &quot;id&quot;: &quot;e1f491f7-7ab8-4dac-8c20-c92b5e7d883d&quot;,\n",
       "    &quot;description&quot;: &quot;A quick and nimble fighter.&quot;,\n",
       "    &quot;name&quot;: &quot;<span style='background-color: rgba(0, 165, 0, 0.25)'>E1F491F7-7ab8</span>&quot;,\n",
       "    &quot;age&quot;: <span style='background-color: rgba(0, 165, 0, 0.25)'>25</span>,\n",
       "    &quot;armor&quot;: &quot;<span style='background-color: rgba(0, 165, 0, 0.25)'>leather</span>,\n",
       "    &quot;weapon&quot;: &quot;<span style='background-color: rgba(0, 165, 0, 0.25)'>sword</span>&quot;,\n",
       "    &quot;class&quot;: &quot;<span style='background-color: rgba(0, 165, 0, 0.25)'>sword</span>&quot;,\n",
       "    &quot;mantra&quot;: &quot;<span style='background-color: rgba(0, 165, 0, 0.25)'>mantra</span>&quot;,\n",
       "    &quot;strength&quot;: <span style='background-color: rgba(0, 165, 0, 0.25)'>0</span>,\n",
       "    &quot;items&quot;: [&quot;<span style='background-color: rgba(0, 165, 0, 0.25)'>sword</span>&quot;, &quot;<span style='background-color: rgba(0, 165, 0, 0.25)'>mantra</span>&quot;, &quot;<span style='background-color: rgba(0, 165, 0, 0.25)'>mantra</span>&quot;, &quot;<span style='background-color: rgba(0, 165, 0, 0.25)'>sword</span>&quot;, &quot;<span style='background-color: rgba(0, 165, 0, 0.25)'>sword</span>&quot;]\n",
       "}```</pre>"
      ],
      "text/plain": [
       "<guidance.models._transformers.Transformers at 0x7f7aa1023460>"
      ]
     },
     "execution_count": 2,
     "metadata": {},
     "output_type": "execute_result"
    }
   ],
   "source": [
    "# we use LLaMA here, but any GPT-style model will do\n",
    "import guidance\n",
    "\n",
    "@guidance\n",
    "def quoted_list(lm, count):\n",
    "    lm += '['\n",
    "    for i in range(count):\n",
    "        if i > 0:\n",
    "            lm += ', '\n",
    "        lm = lm('\"').gen('item', temperature=0.7, stop='\"')('\"')\n",
    "    lm += ']'\n",
    "    return lm\n",
    "\n",
    "# we can pre-define valid option sets\n",
    "valid_weapons = [\"sword\", \"axe\", \"mace\", \"spear\", \"bow\", \"crossbow\"]\n",
    "\n",
    "# define the prompt\n",
    "@guidance\n",
    "def character_maker(lm, id, description, valid_weapons):\n",
    "    lm = lm(f'''The following is a character profile for an RPG game in JSON format.\n",
    "```json\n",
    "{{\n",
    "    \"id\": \"{id}\",\n",
    "    \"description\": \"{description}\",\n",
    "    \"name\": \"''').gen('name', stop='\"')('''\",\n",
    "    \"age\": ''').gen('age', pattern='[0-9]+', stop=',')(''',\n",
    "    \"armor\": \"''').select('armor', options=[\"leather\", \"chainmail\", \"plate\"], suffix=''',\n",
    "    \"weapon\": \"''').select('armor', options=valid_weapons, suffix='''\",\n",
    "    \"class\": \"''').gen('class', stop='\"')('''\",\n",
    "    \"mantra\": \"''').gen('mantra', temperature=0.7, stop='\"')('''\",\n",
    "    \"strength\": ''').gen('strength', pattern='[0-9]+', stop=',')(''',\n",
    "    \"items\": ''').quoted_list(count=5)('''\n",
    "}```''')\n",
    "    return lm\n",
    "\n",
    "lm = guidance.models.Transformers(\"gpt2\", caching=True)\n",
    "\n",
    "# generate a character\n",
    "lm.character_maker(\n",
    "    id=\"e1f491f7-7ab8-4dac-8c20-c92b5e7d883d\",\n",
    "    description=\"A quick and nimble fighter.\",\n",
    "    valid_weapons=valid_weapons\n",
    ")\n"
   ]
  },
  {
   "attachments": {},
   "cell_type": "markdown",
   "metadata": {},
   "source": [
    "## Token healing"
   ]
  },
  {
   "cell_type": "code",
   "execution_count": 1,
   "metadata": {},
   "outputs": [
    {
     "data": {
      "text/html": [
       "<pre style='margin: 0px; padding: 0px; padding-left: 8px; margin-left: -8px; border-radius: 0px; border-left: 1px solid rgba(127, 127, 127, 0.2); white-space: pre-wrap; font-family: ColfaxAI, Arial; font-size: 15px; line-height: 23px;'>The link is &lt;a href=&quot;http:<span style='background-color: rgba(0, 165, 0, 0.25)'> //www.google.com/search?q</span></pre>"
      ],
      "text/plain": [
       "<guidance.models._transformers.Transformers at 0x7fe475a186a0>"
      ]
     },
     "execution_count": 1,
     "metadata": {},
     "output_type": "execute_result"
    }
   ],
   "source": [
    "import guidance\n",
    "\n",
    "# we use StableLM as an open example, but these issues impact all models to varying degrees\n",
    "lm = guidance.models.Transformers(\"stabilityai/stablelm-base-alpha-3b\", device=0)\n",
    "\n",
    "# we turn token healing off so that guidance acts like a normal prompting library\n",
    "lm('The link is <a href=\"http:').gen(max_tokens=10, token_healing=False)"
   ]
  },
  {
   "cell_type": "code",
   "execution_count": 2,
   "metadata": {},
   "outputs": [
    {
     "data": {
      "text/html": [
       "<pre style='margin: 0px; padding: 0px; padding-left: 8px; margin-left: -8px; border-radius: 0px; border-left: 1px solid rgba(127, 127, 127, 0.2); white-space: pre-wrap; font-family: ColfaxAI, Arial; font-size: 15px; line-height: 23px;'>The link is &lt;a href=&quot;http:<span style='background-color: rgba(0, 165, 0, 0.25)'>//www.youtube.com/v/s_</span></pre>"
      ],
      "text/plain": [
       "<guidance.models._transformers.Transformers at 0x7fe4a02c7c40>"
      ]
     },
     "execution_count": 2,
     "metadata": {},
     "output_type": "execute_result"
    }
   ],
   "source": [
    "lm('The link is <a href=\"http:').gen(max_tokens=10)"
   ]
  },
  {
   "attachments": {},
   "cell_type": "markdown",
   "metadata": {},
   "source": [
    "## Rich output structure"
   ]
  },
  {
   "cell_type": "code",
   "execution_count": 1,
   "metadata": {},
   "outputs": [
    {
     "data": {
      "text/html": [
       "<pre style='margin: 0px; padding: 0px; padding-left: 8px; margin-left: -8px; border-radius: 0px; border-left: 1px solid rgba(127, 127, 127, 0.2); white-space: pre-wrap; font-family: ColfaxAI, Arial; font-size: 15px; line-height: 23px;'>Given a sentence tell me whether it contains an anachronism (i.e. whether it could have happened or not based on the time periods associated with the entities).\n",
       "----\n",
       "Sentence: I wrote about shakespeare\n",
       "Entities and dates:\n",
       "I: present\n",
       "Shakespeare: 16th century\n",
       "Reasoning: I can write about Shakespeare because he lived in the past with respect to me.\n",
       "Anachronism: No\n",
       "---\n",
       "Sentence: Shakespeare wrote about me\n",
       "Entities and dates:\n",
       "Shakespeare: 16th century\n",
       "I: present\n",
       "Reasoning: Shakespeare cannot have written about me, because he died before I was born\n",
       "Anachronism: Yes\n",
       "---\n",
       "Sentence: The T-rex bit my dog\n",
       "Entities and dates:\n",
       "<span style='background-color: rgba(0, 165, 0, 0.25)'>T-rex: 65 million years ago\n",
       "My dog: present</span>\n",
       "Reasoning:<span style='background-color: rgba(0, 165, 0, 0.25)'> The T-rex lived millions of years before my dog, so it cannot have bitten my dog.</span>\n",
       "Anachronism:<span style='background-color: rgba(0, 165, 0, 0.25)'> Yes</span></pre>"
      ],
      "text/plain": [
       "<IPython.core.display.HTML object>"
      ]
     },
     "metadata": {},
     "output_type": "display_data"
    }
   ],
   "source": [
    "import guidance\n",
    "                                                      \n",
    "# set the default language model used to execute guidance programs\n",
    "lm = guidance.models.OpenAI(\"text-davinci-003\") \n",
    "\n",
    "# define the few shot examples\n",
    "examples = [\n",
    "    {'input': 'I wrote about shakespeare',\n",
    "    'entities': [{'entity': 'I', 'time': 'present'}, {'entity': 'Shakespeare', 'time': '16th century'}],\n",
    "    'reasoning': 'I can write about Shakespeare because he lived in the past with respect to me.',\n",
    "    'answer': 'No'},\n",
    "    {'input': 'Shakespeare wrote about me',\n",
    "    'entities': [{'entity': 'Shakespeare', 'time': '16th century'}, {'entity': 'I', 'time': 'present'}],\n",
    "    'reasoning': 'Shakespeare cannot have written about me, because he died before I was born',\n",
    "    'answer': 'Yes'}\n",
    "]\n",
    "\n",
    "# define the guidance program\n",
    "def structure_program(lm, examples, input):\n",
    "    lm += '''Given a sentence tell me whether it contains an anachronism (i.e. whether it could have happened or not based on the time periods associated with the entities).\n",
    "----'''\n",
    "\n",
    "    # display the few-shot examples\n",
    "    for example in examples:\n",
    "        lm += f'''\n",
    "Sentence: {example['input']}\n",
    "Entities and dates:'''\n",
    "        for entity in example['entities']:\n",
    "            lm += f'''\n",
    "{entity['entity']}: {entity['time']}'''\n",
    "        lm += f'''\n",
    "Reasoning: {example['reasoning']}\n",
    "Anachronism: {example['answer']}\n",
    "---'''\n",
    "\n",
    "\n",
    "    # place the real question at the end\n",
    "    lm = lm(f'''\n",
    "Sentence: {input}\n",
    "Entities and dates:\n",
    "''').gen(\"entities\", max_tokens=100, suffix='''\n",
    "Reasoning:''').gen(\"reasoning\", suffix='''\n",
    "Anachronism:''').select(\"answer\", options=[\" Yes\", \" No\"])\n",
    "\n",
    "# execute the program\n",
    "out = structure_program(lm,\n",
    "    examples=examples,\n",
    "    input='The T-rex bit my dog'\n",
    ")"
   ]
  },
  {
   "attachments": {},
   "cell_type": "markdown",
   "metadata": {},
   "source": [
    "## Function calling"
   ]
  },
  {
   "cell_type": "code",
   "execution_count": 3,
   "metadata": {},
   "outputs": [
    {
     "data": {
      "text/html": [
       "<pre style='margin: 0px; padding: 0px; padding-left: 8px; margin-left: -8px; border-radius: 0px; border-left: 1px solid rgba(127, 127, 127, 0.2); white-space: pre-wrap; font-family: ColfaxAI, Arial; font-size: 15px; line-height: 23px;'><div style='display: flex; border-bottom: 1px solid rgba(127, 127, 127, 0.2); align-items: center;'><div style='flex: 0 0 80px; opacity: 0.5;'>system</div><div style='flex-grow: 1; padding: 5px; padding-top: 10px; padding-bottom: 10px; margin-top: 0px; white-space: pre-wrap; margin-bottom: 0px;'>You are a helpful assistant.<span style='background-color: rgba(93, 63, 211, 0.15)'>\n",
       "# Tools\n",
       "\n",
       "## functions\n",
       "\n",
       "namespace functions {\n",
       "\n",
       "// Get the current weather in a given location\n",
       "type get_current_weather = (_: {\n",
       "// The city and state, e.g. San Francisco, CA\n",
       "location: string,\n",
       "unit?: &quot;celsius&quot; | &quot;fahrenheit&quot;\n",
       "}) =&gt; any;\n",
       "\n",
       "} // namespace functions\n",
       "</span></div></div><div style='display: flex; border-bottom: 1px solid rgba(127, 127, 127, 0.2); align-items: center;'><div style='flex: 0 0 80px; opacity: 0.5;'>user</div><div style='flex-grow: 1; padding: 5px; padding-top: 10px; padding-bottom: 10px; margin-top: 0px; white-space: pre-wrap; margin-bottom: 0px;'>Get the current weather in New York City.</div></div><div style='display: flex; border-bottom: 1px solid rgba(127, 127, 127, 0.2); align-items: center;'><div style='flex: 0 0 80px; opacity: 0.5;'>assistant</div><div style='flex-grow: 1; padding: 5px; padding-top: 10px; padding-bottom: 10px; margin-top: 0px; white-space: pre-wrap; margin-bottom: 0px;'><span style='background-color: rgba(0, 165, 0, 0.25)'>\n",
       "```typescript\n",
       "functions.get_current_weather({\n",
       "  &quot;location&quot;: &quot;New York City&quot;\n",
       "})```</span></div></div><div style='display: flex; border-bottom: 1px solid rgba(127, 127, 127, 0.2); align-items: center;'><div style='flex: 0 0 80px; opacity: 0.5;'>function</div><div style='flex-grow: 1; padding: 5px; padding-top: 10px; padding-bottom: 10px; margin-top: 0px; white-space: pre-wrap; margin-bottom: 0px;'>{&quot;location&quot;: &quot;New York City&quot;, &quot;temperature&quot;: &quot;71&quot;, &quot;unit&quot;: &quot;fahrenheit&quot;, &quot;forecast&quot;: [&quot;sunny&quot;, &quot;windy&quot;]}</div></div><div style='display: flex; border-bottom: 1px solid rgba(127, 127, 127, 0.2); align-items: center;'><div style='flex: 0 0 80px; opacity: 0.5;'>assistant</div><div style='flex-grow: 1; padding: 5px; padding-top: 10px; padding-bottom: 10px; margin-top: 0px; white-space: pre-wrap; margin-bottom: 0px;'><span style='background-color: rgba(0, 165, 0, 0.25)'>The current weather in New York City is 71°F and sunny with windy conditions.</span></div></div></pre>"
      ],
      "text/plain": [
       "<IPython.core.display.HTML object>"
      ]
     },
     "metadata": {},
     "output_type": "display_data"
    }
   ],
   "source": [
    "import guidance\n",
    "\n",
    "# define a tool we would like the model to use\n",
    "import json\n",
    "def get_current_weather(location, unit=\"fahrenheit\"):\n",
    "    \"\"\" Get the current weather in a given location.\n",
    "    \n",
    "    Parameters\n",
    "    ----------\n",
    "    location : string\n",
    "        The city and state, e.g. San Francisco, CA\n",
    "    unit : \"celsius\" or \"fahrenheit\"\n",
    "    \"\"\"\n",
    "    weather_info = {\n",
    "        \"location\": location,\n",
    "        \"temperature\": \"71\",\n",
    "        \"unit\": unit,\n",
    "        \"forecast\": [\"sunny\", \"windy\"],\n",
    "    }\n",
    "    return json.dumps(weather_info)\n",
    "\n",
    "# define the chat model we want to use (must be a recent model supporting function calls)\n",
    "lm = guidance.models.OpenAIChat(\"gpt-3.5-turbo-0613\", caching=False)\n",
    "\n",
    "# define a guidance program that uses tools\n",
    "def program(lm, location, functions):\n",
    "    with lm.system() as lm:\n",
    "        lm += \"You are a helpful assistant.\"\n",
    "        lm = lm.tool_def(functions=functions)\n",
    "\n",
    "    lm = lm.user(f\"Get the current weather in {location}.\")\n",
    "\n",
    "    for i in range(10):\n",
    "        with lm.assistant() as lm:\n",
    "            lm = lm.gen('answer', max_tokens=50, function_call=\"auto\")\n",
    "        ans = lm[\"answer\"]\n",
    "        \n",
    "        if not callable(ans):\n",
    "            break\n",
    "        \n",
    "        lm = lm.function(ans(), name=ans.__name__)\n",
    "\n",
    "executed_program = program(lm, \"New York City\", functions=[\n",
    "    {\n",
    "        \"name\": \"get_current_weather\",\n",
    "        \"callable\": get_current_weather,\n",
    "        \"description\": \"Get the current weather in a given location\",\n",
    "        \"parameters\": {\n",
    "            \"type\": \"object\",\n",
    "            \"properties\": {\n",
    "                \"location\": {\n",
    "                    \"type\": \"string\",\n",
    "                    \"description\": \"The city and state, e.g. San Francisco, CA\",\n",
    "                },\n",
    "                \"unit\": {\"type\": \"string\", \"enum\": [\"celsius\", \"fahrenheit\"]},\n",
    "            },\n",
    "            \"required\": [\"location\"],\n",
    "        }\n",
    "    }\n",
    "])"
   ]
  },
  {
   "cell_type": "code",
   "execution_count": null,
   "metadata": {},
   "outputs": [],
   "source": []
  }
 ],
 "metadata": {
  "kernelspec": {
   "display_name": "base",
   "language": "python",
   "name": "python3"
  },
  "language_info": {
   "codemirror_mode": {
    "name": "ipython",
    "version": 3
   },
   "file_extension": ".py",
   "mimetype": "text/x-python",
   "name": "python",
   "nbconvert_exporter": "python",
   "pygments_lexer": "ipython3",
   "version": "3.9.16"
  },
  "orig_nbformat": 4
 },
 "nbformat": 4,
 "nbformat_minor": 2
}
